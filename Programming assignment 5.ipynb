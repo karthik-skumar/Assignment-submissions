{
 "cells": [
  {
   "cell_type": "code",
   "execution_count": null,
   "id": "da03d5f8",
   "metadata": {},
   "outputs": [],
   "source": [
    "#1. Write a Python Program to Find LCM?\n",
    "def lcmfinder(x,y):\n",
    "    if x>y:\n",
    "        great=x\n",
    "    else:\n",
    "        great=y\n",
    "    while(True):\n",
    "        if (great%x==0) and (great%y==0):\n",
    "            lcm=great\n",
    "            break\n",
    "        great+=1\n",
    "    return lcm\n",
    "\n",
    "num1=int(input(\"Enter the first number: \"))\n",
    "num2=int(input(\"Enter the second number: \"))\n",
    "\n",
    "print(\"The LCM of\",num1,\"and\",num2,\"is\",lcmfinder(num1,num2))\n",
    "            "
   ]
  },
  {
   "cell_type": "code",
   "execution_count": null,
   "id": "d2f61255",
   "metadata": {},
   "outputs": [],
   "source": [
    "#2.Write a Python Program to Find HCF?\n",
    "def hcffinder(x,y):\n",
    "    if x>y:\n",
    "        small=y\n",
    "    else:\n",
    "        small=x\n",
    "        \n",
    "    for i in range(1,small+1):\n",
    "        if (x%i==0) and (y%1==0):\n",
    "            hcf=i\n",
    "    return hcf\n",
    "\n",
    "num1=int(input(\"Enter the first number: \"))\n",
    "num2=int(input(\"Enter the second number: \"))\n",
    "\n",
    "print(\"The HCf of\",num1,\"and\",num2,\"is\",hcffinder(num1,num2))"
   ]
  },
  {
   "cell_type": "code",
   "execution_count": 6,
   "id": "2d1f50bd",
   "metadata": {},
   "outputs": [
    {
     "name": "stdout",
     "output_type": "stream",
     "text": [
      "Enter the Decimal Value: 8\n",
      "Binary value is : 0b1000\n",
      "Octal value is : 0o10\n",
      "Hexadecimal is: 0x8\n"
     ]
    }
   ],
   "source": [
    "#3.Write a Python Program to Convert Decimal to Binary, Octal and Hexadecimal?\n",
    "\n",
    "def decimal_(x):\n",
    "    print(\"Binary value is :\", bin(x))\n",
    "    print(\"Octal value is :\", oct(x))\n",
    "    print(\"Hexadecimal is:\", hex(x))\n",
    "\n",
    "num=int(input(\"Enter the Decimal Value: \"))\n",
    "\n",
    "decimal_(num)\n",
    "\n",
    "\n",
    "     "
   ]
  },
  {
   "cell_type": "code",
   "execution_count": 12,
   "id": "fb65161b",
   "metadata": {},
   "outputs": [
    {
     "name": "stdout",
     "output_type": "stream",
     "text": [
      "Enter the character: a\n",
      "The Ascii of the given input is:  97\n"
     ]
    }
   ],
   "source": [
    "#.4.Write a Python Program To Find ASCII value of a character?\n",
    "def ASCII_(x):\n",
    "    print(\"The Ascii of the given input is: \", ord(x))\n",
    "\n",
    "inp=input(\"Enter the character: \")\n",
    "\n",
    "ASCII_(inp)"
   ]
  },
  {
   "cell_type": "code",
   "execution_count": 17,
   "id": "4a979ffa",
   "metadata": {},
   "outputs": [
    {
     "name": "stdout",
     "output_type": "stream",
     "text": [
      "enter the first number: 5\n",
      "enter the second number: 5\n",
      "Enter the desired operation (add, sub, div or mul): Add\n",
      "Addition of the given numbers is:  10\n"
     ]
    }
   ],
   "source": [
    "#5. Write a Python Program to Make a Simple Calculator with 4 basic mathematical operations?\n",
    "def add(x,y):\n",
    "    sum=x+y\n",
    "    return sum\n",
    "def sub(x,y):\n",
    "    minus=x-y\n",
    "    return minus\n",
    "def div(x,y):\n",
    "    d=x/y\n",
    "    return d\n",
    "def mul(x,y):\n",
    "    m=x*y\n",
    "    return m\n",
    "num1=int(input(\"enter the first number: \"))\n",
    "num2=int(input(\"enter the second number: \"))\n",
    "op=input(\"Enter the desired operation (add, sub, div or mul): \")\n",
    "if op.lower()==\"add\":\n",
    "    print(\"Addition of the given numbers is: \", add(num1,num2))\n",
    "elif op.lower()==\"sub\":\n",
    "    print(\"Subtarction of the given numbers is: \", sub(num1,num2))\n",
    "elif op.lower()==\"div\":\n",
    "    print(\"Division of the given numbers is: \", div(num1,num2))\n",
    "elif op.lower()==\"mul\":\n",
    "    print(\"Multiplication of the given numbers is: \", mul(num1,num2))\n",
    "else:\n",
    "    print(\"Error:Recheck your input\")\n",
    "   \n",
    "    "
   ]
  },
  {
   "cell_type": "code",
   "execution_count": null,
   "id": "18fae7a5",
   "metadata": {},
   "outputs": [],
   "source": []
  }
 ],
 "metadata": {
  "kernelspec": {
   "display_name": "Python 3 (ipykernel)",
   "language": "python",
   "name": "python3"
  },
  "language_info": {
   "codemirror_mode": {
    "name": "ipython",
    "version": 3
   },
   "file_extension": ".py",
   "mimetype": "text/x-python",
   "name": "python",
   "nbconvert_exporter": "python",
   "pygments_lexer": "ipython3",
   "version": "3.9.7"
  }
 },
 "nbformat": 4,
 "nbformat_minor": 5
}
