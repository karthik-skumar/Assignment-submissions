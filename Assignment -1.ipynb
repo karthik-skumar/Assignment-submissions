{
 "cells": [
  {
   "cell_type": "code",
   "execution_count": 1,
   "id": "4257e58b",
   "metadata": {},
   "outputs": [
    {
     "name": "stdout",
     "output_type": "stream",
     "text": [
      "Hello Python\n"
     ]
    }
   ],
   "source": [
    "#1.\tWrite a Python program to print \"Hello Python\"?\n",
    "print(\"Hello Python\")"
   ]
  },
  {
   "cell_type": "code",
   "execution_count": 2,
   "id": "b0a82553",
   "metadata": {},
   "outputs": [
    {
     "name": "stdout",
     "output_type": "stream",
     "text": [
      "Enter number--2\n",
      "Enter number--2\n",
      "addition-- 4\n",
      "Division-- 1.0\n"
     ]
    }
   ],
   "source": [
    "#2.\tWrite a Python program to do arithmetical operations addition and division.?\n",
    "a=int(input(\"Enter number--\"))\n",
    "b=int(input(\"Enter number--\"))\n",
    "print(\"addition--\",a+b)\n",
    "print(\"Division--\",a/b)\n"
   ]
  },
  {
   "cell_type": "code",
   "execution_count": null,
   "id": "aa4e600d",
   "metadata": {},
   "outputs": [],
   "source": [
    "#3.\tWrite a Python program to find the area of a triangle?\n",
    "#to find Area of triangle, (baseX Height)/2\n",
    "b=int(input(\"Enter the base of the triangle(in cm)--\"))\n",
    "h=int(input(\"Enter the height of the triangle(in cm)--\"))\n",
    "print(\"The area of the triangle is--{}cm\".format((b*h)/2))"
   ]
  },
  {
   "cell_type": "code",
   "execution_count": null,
   "id": "01235a4f",
   "metadata": {},
   "outputs": [],
   "source": [
    "#4.\tWrite a Python program to swap two variables?\n",
    "a,b=2,4\n",
    "print(\"Before Swapping\",a,b)\n",
    "temp=a\n",
    "a=b\n",
    "b=temp\n",
    "print(\"After Swapping \",a,b)"
   ]
  },
  {
   "cell_type": "code",
   "execution_count": null,
   "id": "f3a6a12c",
   "metadata": {},
   "outputs": [],
   "source": [
    "#5.\tWrite a Python program to generate a random number?\n",
    "import random\n",
    "n=random.randint(1,100)\n",
    "print(\"Random number generated is \",n)"
   ]
  }
 ],
 "metadata": {
  "kernelspec": {
   "display_name": "Python 3 (ipykernel)",
   "language": "python",
   "name": "python3"
  },
  "language_info": {
   "codemirror_mode": {
    "name": "ipython",
    "version": 3
   },
   "file_extension": ".py",
   "mimetype": "text/x-python",
   "name": "python",
   "nbconvert_exporter": "python",
   "pygments_lexer": "ipython3",
   "version": "3.9.7"
  }
 },
 "nbformat": 4,
 "nbformat_minor": 5
}
