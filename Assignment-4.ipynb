{
 "cells": [
  {
   "cell_type": "code",
   "execution_count": null,
   "id": "3d187d05",
   "metadata": {},
   "outputs": [],
   "source": [
    "#Write a Python Program to Find the Factorial of a Number?\n",
    "def factorial(n):\n",
    "    if n<0:\n",
    "        return 0\n",
    "    elif n==1 or n==0:\n",
    "        return 1\n",
    "    else:\n",
    "        a=1\n",
    "        while(n>1):\n",
    "            a=a*n\n",
    "            n=n-1\n",
    "        return a  \n",
    "            \n",
    "            \n",
    "  \n",
    "        \n",
    "    \n",
    "    "
   ]
  },
  {
   "cell_type": "code",
   "execution_count": null,
   "id": "7dad5fcb",
   "metadata": {},
   "outputs": [],
   "source": [
    "#Write a Python Program to Display the multiplication Table?\n",
    "n=int(input(\"Multiplication Table of-- \"))\n",
    "for i in range(1,11):\n",
    "    print(n,\"x\",i,\"=\",(n*i))"
   ]
  },
  {
   "cell_type": "code",
   "execution_count": null,
   "id": "e7f8ad53",
   "metadata": {},
   "outputs": [],
   "source": [
    "#Write a Python Program to Print the Fibonacci sequence?\n",
    "n=int(input(\"Enter the number of terms for Fibonacci sequence--\"))\n",
    "count=0\n",
    "n1,n2=0,1\n",
    "print()\n",
    "print(\"The sequence is--\")\n",
    "while count<n:\n",
    "    print(n1)\n",
    "    a=n1+n2\n",
    "    n1=n2\n",
    "    n2=a\n",
    "    count+=1\n",
    "\n",
    "    \n",
    "    \n",
    "    "
   ]
  },
  {
   "cell_type": "code",
   "execution_count": null,
   "id": "637c7e47",
   "metadata": {},
   "outputs": [],
   "source": [
    "#Write a Python Program to Check Armstrong Number?\n",
    "n=int(input(\"Enter the number to be checked if Armstrong number or not--\"))\n",
    "print()\n",
    "b=0\n",
    "t=n\n",
    "while t>0:\n",
    "    a=t%10\n",
    "    b=b+a**3\n",
    "    t//=10\n",
    "    \n",
    "if n==b:\n",
    "    print(\"{} is an Armstrong Number\".format(n))\n",
    "else:\n",
    "    print(\"{} is not an Armstrong Number\".format(n))\n",
    "    \n",
    "    "
   ]
  },
  {
   "cell_type": "code",
   "execution_count": null,
   "id": "87f37e23",
   "metadata": {},
   "outputs": [],
   "source": [
    "#Write a Python Program to Find Armstrong Number in an Interval?\n",
    "n=int(input(\"Enter the range from--\"))\n",
    "m=int(input(\"To--\"))\n",
    "for i in range(n,m):\n",
    "    b=0\n",
    "    t=i\n",
    "    while t>0:\n",
    "        a=t%10\n",
    "        b=b+a**3\n",
    "        t//=10\n",
    "        if i==b:\n",
    "            print(i)   \n",
    "        \n",
    "    \n"
   ]
  },
  {
   "cell_type": "code",
   "execution_count": null,
   "id": "301d5aa8",
   "metadata": {},
   "outputs": [],
   "source": [
    "#Write a Python Program to Find the Sum of Natural Numbers?\n",
    "n=int(input(\"Enter natural number--\"))\n",
    "if n<=0:\n",
    "    print(\"Enter a positive number-- \")\n",
    "else:\n",
    "    a=0\n",
    "    while n>0:\n",
    "        a=a+n\n",
    "        n=n-1\n",
    "    print(a,\" is the sum\")"
   ]
  },
  {
   "cell_type": "code",
   "execution_count": null,
   "id": "637b6732",
   "metadata": {},
   "outputs": [],
   "source": []
  }
 ],
 "metadata": {
  "kernelspec": {
   "display_name": "Python 3 (ipykernel)",
   "language": "python",
   "name": "python3"
  },
  "language_info": {
   "codemirror_mode": {
    "name": "ipython",
    "version": 3
   },
   "file_extension": ".py",
   "mimetype": "text/x-python",
   "name": "python",
   "nbconvert_exporter": "python",
   "pygments_lexer": "ipython3",
   "version": "3.9.7"
  }
 },
 "nbformat": 4,
 "nbformat_minor": 5
}
