{
 "cells": [
  {
   "cell_type": "code",
   "execution_count": null,
   "id": "2056d3d7",
   "metadata": {},
   "outputs": [],
   "source": [
    "#Write a Python Program to Check if a Number is Positive, Negative or Zero?\n",
    "a=int(input(\"Enter a Number--\"))\n",
    "if a<0:\n",
    "        print(\"The number is negative\")\n",
    "elif a>0:\n",
    "        print(\"The number is positive\")\n",
    "else:\n",
    "        print(\"The number is zero\")"
   ]
  },
  {
   "cell_type": "code",
   "execution_count": null,
   "id": "2fd0253d",
   "metadata": {},
   "outputs": [],
   "source": [
    "#Write a Python Program to Check if a Number is Odd or Even?\n",
    "a=a=int(input(\"Enter a Number--\"))\n",
    "if a%2==0:\n",
    "    print(\"The number is Even\")\n",
    "else:\n",
    "    print(\"The number is Odd\")"
   ]
  },
  {
   "cell_type": "code",
   "execution_count": null,
   "id": "e07c637d",
   "metadata": {},
   "outputs": [],
   "source": [
    "#Write a Python Program to Check Leap Year?\n",
    "a=int(input(\"Enter the Year--\"))\n",
    "if a%4==0:\n",
    "    if a%100==0:\n",
    "        if a%400==0:\n",
    "            print(\"{} is Leap year\".format(a))\n",
    "        else:\n",
    "            print(\"{} is not a Leap year\".format(a))\n",
    "    else:\n",
    "        print(\"{} is a Leap year\".format(a))\n",
    "else:\n",
    "    print(\"{} is not a Leap year\".format(a))"
   ]
  },
  {
   "cell_type": "code",
   "execution_count": null,
   "id": "e743d57a",
   "metadata": {},
   "outputs": [],
   "source": [
    "#Write a Python Program to Check Prime Number?\n",
    "n=int(input(\"Enter a Number--\"))\n",
    "flag=False\n",
    "if n>1:   \n",
    "    for i in range(2,int(n)):\n",
    "        if n % i==0:\n",
    "            flag=True\n",
    "            break\n",
    "if flag:    \n",
    "    print(\"{} is a not a prime number\".format(n))\n",
    "else:\n",
    "    print(\"{} is prime number\".format(n))"
   ]
  },
  {
   "cell_type": "code",
   "execution_count": null,
   "id": "b45eeef9",
   "metadata": {
    "scrolled": true
   },
   "outputs": [],
   "source": [
    "#Write a Python Program to Print all Prime Numbers in an Interval of 1-10000?\n",
    "s=1\n",
    "e=10000\n",
    "for i in range(s,e):\n",
    "    if i>1:\n",
    "        for j in range(2,i):\n",
    "            if i%j==0:\n",
    "                break\n",
    "        else:\n",
    "            print(i)\n",
    "                "
   ]
  },
  {
   "cell_type": "code",
   "execution_count": null,
   "id": "a17102c9",
   "metadata": {},
   "outputs": [],
   "source": []
  }
 ],
 "metadata": {
  "kernelspec": {
   "display_name": "Python 3 (ipykernel)",
   "language": "python",
   "name": "python3"
  },
  "language_info": {
   "codemirror_mode": {
    "name": "ipython",
    "version": 3
   },
   "file_extension": ".py",
   "mimetype": "text/x-python",
   "name": "python",
   "nbconvert_exporter": "python",
   "pygments_lexer": "ipython3",
   "version": "3.9.7"
  }
 },
 "nbformat": 4,
 "nbformat_minor": 5
}
