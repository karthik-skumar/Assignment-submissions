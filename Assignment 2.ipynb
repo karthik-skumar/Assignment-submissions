{
 "cells": [
  {
   "cell_type": "code",
   "execution_count": null,
   "id": "803f034e",
   "metadata": {},
   "outputs": [],
   "source": [
    "#Kilometers to miles(1km=0.621371miles)\n",
    "km=int(input(\"Enter the Kilometers--\"))\n",
    "display(\"{} Kilometers is {} miles\".format(km,(km*0.621371)))"
   ]
  },
  {
   "cell_type": "code",
   "execution_count": null,
   "id": "7d083353",
   "metadata": {},
   "outputs": [],
   "source": [
    "#celsius to fahrenheit -- (0°C × 9/5) + 32 = 32°F\n",
    "c=int(input(\"Enter the value in celsius--\"))\n",
    "display(\"{}° Celsius is {}° Fahrenheit\".format(c,((c*9/5)+32)))"
   ]
  },
  {
   "cell_type": "code",
   "execution_count": null,
   "id": "e433e0f1",
   "metadata": {},
   "outputs": [],
   "source": [
    "import calendar\n",
    "month=int(input(\"Enter Month--\"))\n",
    "year=int(input(\"Enter Year--\"))\n",
    "print(calendar.month(year,month))"
   ]
  },
  {
   "cell_type": "code",
   "execution_count": null,
   "id": "49418f10",
   "metadata": {},
   "outputs": [],
   "source": [
    "#Standard Quadratic equation= ax^2+bx+c=0 \n",
    "#The discriminant of the quadratic equation is D = b^2 - 4ac\n",
    "#For D > 0 the roots are real and distinct.\n",
    "#For D = 0 the roots are real and equal.\n",
    "#For D < 0 the roots do not exist, or the roots are imaginary.\n",
    "# Quadratic Formula x = [-b ± √(b² - 4ac)]/2a\n",
    "import math\n",
    "a=int(input(\"Enter value of a--\"))\n",
    "b=int(input(\"Enter value of b--\"))\n",
    "c=int(input(\"Enter value of c--\"))\n",
    "d= (b*b)-(4*a*c)\n",
    "if d>0:\n",
    "    x1= (-b+math.sqrt(d))/(2*a)\n",
    "    x2= (-b-math.sqrt(d))/(2*a)\n",
    "    print(\"The quadratic equation has real and distinct roots x={} ,x={}\".format(x1,x2))\n",
    "    print(\"proof--> {}*{}^2+{}*{}+{}= {}\".format(a,x1,b,x1,c,(a*x1*x1)+(b*x1)+(c)))\n",
    "    print()\n",
    "    print(\"     --> {}*{}^2+{}*{}+{}= {}\".format(a,x2,b,x2,c,(a*x2*x2)+(b*x2)+(c)))\n",
    "elif d==0:\n",
    "    print(\"The Quadratic equation has real and equal roots x= {}\".format(x3=(-b/2*a)))\n",
    "    print(\"proof--> {}*{}^2+{}*{}+{}={}\".format(a,x3,b,x3,c,(a*x3*x3)+(b*x3)+(c)))\n",
    "else:\n",
    "    print(\"Either The roots do not exist or The roots are imaginary\")"
   ]
  },
  {
   "cell_type": "code",
   "execution_count": null,
   "id": "1ec869d9",
   "metadata": {},
   "outputs": [],
   "source": [
    "#Swap without temp variable\n",
    "a=int(input(\"Enter the data-\"))\n",
    "b=int(input(\"Enter the data-\"))\n",
    "print(\"Before Swapping\",a,b)\n",
    "print()\n",
    "a=a+b\n",
    "b=a-b\n",
    "a=a-b\n",
    "print(\"After Swappping\",a,b)"
   ]
  },
  {
   "cell_type": "code",
   "execution_count": null,
   "id": "c2889873",
   "metadata": {},
   "outputs": [],
   "source": []
  },
  {
   "cell_type": "code",
   "execution_count": null,
   "id": "1fbf4127",
   "metadata": {},
   "outputs": [],
   "source": []
  }
 ],
 "metadata": {
  "kernelspec": {
   "display_name": "Python 3 (ipykernel)",
   "language": "python",
   "name": "python3"
  },
  "language_info": {
   "codemirror_mode": {
    "name": "ipython",
    "version": 3
   },
   "file_extension": ".py",
   "mimetype": "text/x-python",
   "name": "python",
   "nbconvert_exporter": "python",
   "pygments_lexer": "ipython3",
   "version": "3.9.7"
  }
 },
 "nbformat": 4,
 "nbformat_minor": 5
}
